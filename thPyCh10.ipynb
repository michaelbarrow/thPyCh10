{
 "cells": [
  {
   "cell_type": "markdown",
   "metadata": {},
   "source": [
    "# Chapter 10 - Lists"
   ]
  },
  {
   "cell_type": "markdown",
   "metadata": {},
   "source": [
    "This chapter presents one of Python's most useful built-in types, lists.  You'll also learn more about objects and what can happen when you have multiple names for the same object (a very noteworthy thing in Comp Sci)."
   ]
  },
  {
   "cell_type": "markdown",
   "metadata": {},
   "source": [
    "A list is a sequence, somewhat like a string.  \n",
    "In a string, the values of the sequence are characters; in a list, they can be any type (even other lists!).  \n",
    "The values in a list are called elements or items.  "
   ]
  },
  {
   "cell_type": "code",
   "execution_count": 1,
   "metadata": {},
   "outputs": [],
   "source": [
    "#Some ways to create a list:\n",
    "#Simplest: enclose elements in square brackets, \n",
    "#separated by commas\n",
    "my_list = [10,20,30]\n",
    "my_other_list = ['goblin', 'beholder', 'tarrasque']\n",
    "#But wait!  The elements can be of different types!\n",
    "list3 = [1, 'a', [\"i'm\",\"a\", \"list\",\"too!\"]]\n",
    "#A list within another list is -nested-\n",
    "empty_list = []"
   ]
  },
  {
   "cell_type": "code",
   "execution_count": 2,
   "metadata": {},
   "outputs": [
    {
     "name": "stdout",
     "output_type": "stream",
     "text": [
      "[10, 20, 30]\n"
     ]
    }
   ],
   "source": [
    "print(my_list)"
   ]
  },
  {
   "cell_type": "code",
   "execution_count": 3,
   "metadata": {},
   "outputs": [
    {
     "data": {
      "text/plain": [
       "[20, 30]"
      ]
     },
     "execution_count": 3,
     "metadata": {},
     "output_type": "execute_result"
    }
   ],
   "source": [
    "#We can access elements of a list using indexes\n",
    "#and slices, just like strings\n",
    "my_list[1:3]"
   ]
  },
  {
   "cell_type": "markdown",
   "metadata": {},
   "source": [
    "Lists are Mutable (they can be changed after being created).  \n",
    "(This is different from some other Python sequences like strings or tuples).  "
   ]
  },
  {
   "cell_type": "code",
   "execution_count": 4,
   "metadata": {},
   "outputs": [
    {
     "name": "stdout",
     "output_type": "stream",
     "text": [
      "[10, 20, 30]\n"
     ]
    },
    {
     "data": {
      "text/plain": [
       "[10, 11, 30]"
      ]
     },
     "execution_count": 4,
     "metadata": {},
     "output_type": "execute_result"
    }
   ],
   "source": [
    "print(my_list)\n",
    "my_list[1] = 11\n",
    "my_list"
   ]
  },
  {
   "cell_type": "code",
   "execution_count": 5,
   "metadata": {},
   "outputs": [
    {
     "data": {
      "text/plain": [
       "[1, 'a', 'alpha']"
      ]
     },
     "execution_count": 5,
     "metadata": {},
     "output_type": "execute_result"
    }
   ],
   "source": [
    "#Practice: Update the third entry of list3 to be \"alpha\"\n",
    "list3[2] = 'alpha'\n",
    "list3"
   ]
  },
  {
   "cell_type": "markdown",
   "metadata": {},
   "source": [
    "Traversing a list.  \n",
    "The most common way to traverse the elements of a list with with a for loop. (Similar to strings)."
   ]
  },
  {
   "cell_type": "code",
   "execution_count": 6,
   "metadata": {},
   "outputs": [
    {
     "name": "stdout",
     "output_type": "stream",
     "text": [
      "I like apple pie!\n",
      "I like cherry pie!\n",
      "I like pumpkin pie!\n",
      "I like banana cream pie!\n",
      "I like key lime pie!\n"
     ]
    }
   ],
   "source": [
    "pies = ['apple', 'cherry', 'pumpkin', 'banana cream', \n",
    "        'key lime']\n",
    "for pie in pies:\n",
    "    print(\"I like\", pie,\"pie!\")\n",
    "\n",
    "#This works well if you want to read the elements"
   ]
  },
  {
   "cell_type": "code",
   "execution_count": 7,
   "metadata": {},
   "outputs": [
    {
     "data": {
      "text/plain": [
       "['apple(Yum!)',\n",
       " 'cherry(Yum!)',\n",
       " 'pumpkin(Yum!)',\n",
       " 'banana cream(Yum!)',\n",
       " 'key lime(Yum!)']"
      ]
     },
     "execution_count": 7,
     "metadata": {},
     "output_type": "execute_result"
    }
   ],
   "source": [
    "#But if you want to write or update the elements, it's\n",
    "#better to use indices\n",
    "excitable_pies = pies\n",
    "for index in range(len(excitable_pies)):\n",
    "    excitable_pies[index] = excitable_pies[index]+\"(Yum!)\"\n",
    "excitable_pies"
   ]
  },
  {
   "cell_type": "code",
   "execution_count": 8,
   "metadata": {},
   "outputs": [],
   "source": [
    "#A for loop over an empty list never runs the body\n",
    "#of the loop\n",
    "for element in []:\n",
    "    print('This will not print')"
   ]
  },
  {
   "cell_type": "code",
   "execution_count": 9,
   "metadata": {},
   "outputs": [
    {
     "data": {
      "text/plain": [
       "[1, 'a', ['one', 'two', 'three']]"
      ]
     },
     "execution_count": 9,
     "metadata": {},
     "output_type": "execute_result"
    }
   ],
   "source": [
    "#remember list3?\n",
    "list3\n",
    "list3[2] = ['one','two','three']\n",
    "list3"
   ]
  },
  {
   "cell_type": "code",
   "execution_count": 10,
   "metadata": {},
   "outputs": [
    {
     "name": "stdout",
     "output_type": "stream",
     "text": [
      "1\n",
      "a\n",
      "['one', 'two', 'three']\n"
     ]
    }
   ],
   "source": [
    "#Even though the third entry there is a list, \n",
    "#it counts as a single element of list3 when traversing.\n",
    "for element in list3:\n",
    "    print(element)"
   ]
  },
  {
   "cell_type": "markdown",
   "metadata": {},
   "source": [
    "## List operations  \n",
    "The + operator concatenates list into one  \n",
    "The * operator repeats a list a given number of times"
   ]
  },
  {
   "cell_type": "code",
   "execution_count": 11,
   "metadata": {},
   "outputs": [
    {
     "data": {
      "text/plain": [
       "[1, 2, 3, 4, 5, 6]"
      ]
     },
     "execution_count": 11,
     "metadata": {},
     "output_type": "execute_result"
    }
   ],
   "source": [
    "a = [1, 2, 3]\n",
    "b = [4, 5, 6]\n",
    "c = a + b\n",
    "c"
   ]
  },
  {
   "cell_type": "code",
   "execution_count": 12,
   "metadata": {},
   "outputs": [
    {
     "data": {
      "text/plain": [
       "[1, 2, 3, 1, 2, 3, 1, 2, 3, 1, 2, 3]"
      ]
     },
     "execution_count": 12,
     "metadata": {},
     "output_type": "execute_result"
    }
   ],
   "source": [
    "a * 4"
   ]
  },
  {
   "cell_type": "code",
   "execution_count": 13,
   "metadata": {},
   "outputs": [
    {
     "data": {
      "text/plain": [
       "100"
      ]
     },
     "execution_count": 13,
     "metadata": {},
     "output_type": "execute_result"
    }
   ],
   "source": [
    "#Practice: you need a list that contains 100 elements, \n",
    "#all initialized to 0.  Go.\n",
    "zeroes100 = [0] * 100\n",
    "len(zeroes100)"
   ]
  },
  {
   "cell_type": "markdown",
   "metadata": {},
   "source": [
    "List Slices  \n",
    "Just like strings, we can slice lists"
   ]
  },
  {
   "cell_type": "code",
   "execution_count": 14,
   "metadata": {},
   "outputs": [
    {
     "data": {
      "text/plain": [
       "['c', 'd', 'e']"
      ]
     },
     "execution_count": 14,
     "metadata": {},
     "output_type": "execute_result"
    }
   ],
   "source": [
    "piano_alpha = ['a','b','c','d','e','f','g']\n",
    "piano_alpha[2:5]"
   ]
  },
  {
   "cell_type": "code",
   "execution_count": 15,
   "metadata": {},
   "outputs": [
    {
     "data": {
      "text/plain": [
       "['g', 'f', 'e', 'd', 'c', 'b', 'a']"
      ]
     },
     "execution_count": 15,
     "metadata": {},
     "output_type": "execute_result"
    }
   ],
   "source": [
    "piano_alpha[::-1] #remember this trick?"
   ]
  },
  {
   "cell_type": "code",
   "execution_count": 16,
   "metadata": {},
   "outputs": [
    {
     "data": {
      "text/plain": [
       "['a', 'b', 'c', 'D', 'E', 'f', 'g']"
      ]
     },
     "execution_count": 16,
     "metadata": {},
     "output_type": "execute_result"
    }
   ],
   "source": [
    "piano_copy = piano_alpha\n",
    "piano_copy[3:5] = ['D','E']\n",
    "piano_copy"
   ]
  },
  {
   "cell_type": "code",
   "execution_count": 17,
   "metadata": {},
   "outputs": [
    {
     "data": {
      "text/plain": [
       "[7, 8, 9, 10]"
      ]
     },
     "execution_count": 17,
     "metadata": {},
     "output_type": "execute_result"
    }
   ],
   "source": [
    "#List methods\n",
    "#There are some built-in methods Python has for lists.\n",
    "\n",
    "t = [7,8,9]\n",
    "t.append(10)\n",
    "t\n",
    "#Hint: since l(lowercase L) looks a lot like 1 (one),\n",
    "#it's sometimes avoided as a variable name,\n",
    "#even though it would make sense for a list."
   ]
  },
  {
   "cell_type": "code",
   "execution_count": 18,
   "metadata": {},
   "outputs": [
    {
     "name": "stdout",
     "output_type": "stream",
     "text": [
      "[5, 6, 7, 8, 9, 10, 11, 12, 13, 14, 15, 16, 17, 18, 19, 20, 21, 22, 23, 24, 25, 26, 27, 28, 29, 30, 31, 32, 33, 34, 35, 36, 37, 38, 39, 40, 41, 42, 43, 44, 45, 46, 47, 48, 49, 50, 51, 52, 53, 54, 55, 56, 57, 58, 59, 60, 61, 62, 63, 64, 65, 66, 67, 68, 69, 70, 71, 72, 73, 74, 75, 76, 77, 78, 79, 80, 81, 82, 83, 84, 85, 86, 87, 88, 89, 90, 91, 92, 93, 94, 95]\n"
     ]
    }
   ],
   "source": [
    "#Practice: using append function and a for loop,\n",
    "#create a list containing the integers from 5 to 95\n",
    "answer = []\n",
    "for i in range(5,96):\n",
    "    answer.append(i)\n",
    "print(answer)\n",
    "#show how to push work back up to Github!!\n",
    "\n",
    "# - we can \"store \" work on github for further development\n",
    " # for this we use \"git push\" command to send work to github\n",
    "    #in general, we we want to only push \"complete\" work.\n",
    "    #another function we can use to temporarily save work is \n",
    "    #git stash\n",
    "    #if we need to push incomplete files to github, it is \n",
    "    #vital to use good documentation.\n",
    "    #go to command line -terminal/anaconda prompt\n",
    "    #git add .\n",
    "    #git commit -m \"write commit message here\"\n",
    "    #git push\n",
    "    #useful: git status"
   ]
  },
  {
   "cell_type": "code",
   "execution_count": 19,
   "metadata": {},
   "outputs": [
    {
     "name": "stdout",
     "output_type": "stream",
     "text": [
      "HELLO\n",
      "hello\n",
      "[1, 2, 3]\n",
      "[1, 2]\n"
     ]
    }
   ],
   "source": [
    "#Aside: discuss destructive methods vs. \n",
    "#non-destructive\n",
    "s = 'hello'\n",
    "print(s.upper())\n",
    "print(s)\n",
    "# so, .upper() is a non-destructive method\n",
    "\n",
    "#print(int('56'))\n",
    "#what about .pop()?\n",
    "mylist = [1,2,3]\n",
    "print(mylist)\n",
    "mylist.pop()\n",
    "print(mylist)\n",
    "#so, .pop() is a destructive method, because it changes the \n",
    "#data of an object"
   ]
  },
  {
   "cell_type": "code",
   "execution_count": 20,
   "metadata": {},
   "outputs": [
    {
     "data": {
      "text/plain": [
       "[7, 8, 9, 10, 11, 12]"
      ]
     },
     "execution_count": 20,
     "metadata": {},
     "output_type": "execute_result"
    }
   ],
   "source": [
    "u = [11,12]\n",
    "#extend takes a list as an argument and appends\n",
    "#all the elements\n",
    "t.extend(u)\n",
    "#This changes t but leaves u alone\n",
    "t"
   ]
  },
  {
   "cell_type": "markdown",
   "metadata": {},
   "source": [
    "Map, filter, reduce"
   ]
  },
  {
   "cell_type": "code",
   "execution_count": 21,
   "metadata": {},
   "outputs": [
    {
     "name": "stdout",
     "output_type": "stream",
     "text": [
      "57\n"
     ]
    }
   ],
   "source": [
    "#to add up all numbers in a list, use a loop like this\n",
    "def add_all(t):\n",
    "    total = 0#we use this as an accumulator variable\n",
    "    for x in t:\n",
    "        total += x #this augmented assignment statement\n",
    "    return total\n",
    "#Note that this works only if all elements \n",
    "#in the list are numbers!\n",
    "print(add_all(t))\n",
    "#sum(t)"
   ]
  },
  {
   "cell_type": "code",
   "execution_count": 22,
   "metadata": {},
   "outputs": [
    {
     "data": {
      "text/plain": [
       "99"
      ]
     },
     "execution_count": 22,
     "metadata": {},
     "output_type": "execute_result"
    }
   ],
   "source": [
    "#Practice!  \n",
    "#write a function that returns the maximum\n",
    "#value in a list of numbers!\n",
    "numbers = [5, 25, 99, 3, 42, 11]\n",
    "def find_max(l):\n",
    "    #make a current_max variable to keep track, \n",
    "    #initialize it to the first element in the list\n",
    "    #loop through the list, if an element in the list is\n",
    "    #greater than the current_max, update current_max to it\n",
    "    #return current_max\n",
    "    current_max = l[0]\n",
    "    for entry in l:\n",
    "        if entry > current_max:\n",
    "            current_max = entry\n",
    "    return current_max\n",
    "\n",
    "#try it out:\n",
    "find_max(numbers)"
   ]
  },
  {
   "cell_type": "code",
   "execution_count": 23,
   "metadata": {},
   "outputs": [
    {
     "name": "stdout",
     "output_type": "stream",
     "text": [
      "57\n",
      "12\n"
     ]
    }
   ],
   "source": [
    "#It's actually such a common thing to do\n",
    "#to add elements of a list, that Python has \n",
    "#a built-in function to do it:\n",
    "print(sum(t))\n",
    "#this \"reduces\" a sequence into one value\n",
    "\n",
    "#Do you suspect a similar function exists for \n",
    "#maximum?\n",
    "print(max(t))"
   ]
  },
  {
   "cell_type": "code",
   "execution_count": 24,
   "metadata": {},
   "outputs": [
    {
     "data": {
      "text/plain": [
       "['Apple', 'Bear', 'Cafe', 'Draven', 'Egg']"
      ]
     },
     "execution_count": 24,
     "metadata": {},
     "output_type": "execute_result"
    }
   ],
   "source": [
    "#Sometimes we want to build one list from another\n",
    "words = ['apple', 'bear', 'Cafe', 'Draven', 'egg']\n",
    "def capitalize_all(t):\n",
    "    result = []\n",
    "    for word in t:\n",
    "        result.append(word.capitalize())\n",
    "    return result\n",
    "capitalize_all(words)\n",
    "#This function is called a \"map\" because\n",
    "#it maps a function (capitalize) onto each \n",
    "#entry of the list\n",
    "#words"
   ]
  },
  {
   "cell_type": "code",
   "execution_count": 25,
   "metadata": {},
   "outputs": [
    {
     "name": "stdout",
     "output_type": "stream",
     "text": [
      "['WORLD', 'OOPS CAPS']\n"
     ]
    }
   ],
   "source": [
    "#Filter\n",
    "def only_upper(t):\n",
    "    result = []\n",
    "    for s in t:\n",
    "        if s.isupper():\n",
    "            result.append(s)\n",
    "    return result\n",
    "print(only_upper(['Hello', 'WORLD', 'OOPS CAPS', 'sorry']))"
   ]
  },
  {
   "cell_type": "code",
   "execution_count": 26,
   "metadata": {},
   "outputs": [
    {
     "name": "stdout",
     "output_type": "stream",
     "text": [
      "[-1, -2, -3, 4, 5]\n"
     ]
    }
   ],
   "source": [
    "#Practice:\n",
    "#Design your own function of lists \n",
    "#e.g. reverse all string entries, or make them\n",
    "#all uppercase, or make all numerical entries negative,\n",
    "#or so on...\n",
    "def my_function(t): #on a list of numbers, negates sign on each\n",
    "    outlist = []\n",
    "    for entry in t:\n",
    "        outlist.append(-entry)\n",
    "    return outlist\n",
    "start_list = [1,2,3,-4,-5]\n",
    "my_new_list = my_function(start_list)\n",
    "print(my_new_list)"
   ]
  },
  {
   "cell_type": "code",
   "execution_count": 27,
   "metadata": {},
   "outputs": [
    {
     "name": "stdout",
     "output_type": "stream",
     "text": [
      "y\n"
     ]
    },
    {
     "data": {
      "text/plain": [
       "['x', 'z']"
      ]
     },
     "execution_count": 27,
     "metadata": {},
     "output_type": "execute_result"
    }
   ],
   "source": [
    "#Deleting \n",
    "#There are several ways.\n",
    "alph = ['x','y','z']\n",
    "y = alph.pop(1) #useful to keep the popped entry\n",
    "print(y)\n",
    "alph"
   ]
  },
  {
   "cell_type": "code",
   "execution_count": 28,
   "metadata": {},
   "outputs": [
    {
     "data": {
      "text/plain": [
       "['z']"
      ]
     },
     "execution_count": 28,
     "metadata": {},
     "output_type": "execute_result"
    }
   ],
   "source": [
    "#If you don't need to keep it, use del\n",
    "del alph[0]\n",
    "alph"
   ]
  },
  {
   "cell_type": "code",
   "execution_count": 1,
   "metadata": {},
   "outputs": [
    {
     "data": {
      "text/plain": [
       "['y', 'z']"
      ]
     },
     "execution_count": 1,
     "metadata": {},
     "output_type": "execute_result"
    }
   ],
   "source": [
    "#If you know the element you want to remove\n",
    "#but not the index, you can use \"remove\"\n",
    "alph = ['z', 'y', 'z']\n",
    "alph.remove('z')\n",
    "alph"
   ]
  },
  {
   "cell_type": "code",
   "execution_count": 30,
   "metadata": {},
   "outputs": [
    {
     "data": {
      "text/plain": [
       "['x']"
      ]
     },
     "execution_count": 30,
     "metadata": {},
     "output_type": "execute_result"
    }
   ],
   "source": [
    "#to remove more than one at a time, you can \n",
    "#del with a slice index\n",
    "alph = ['x','y','z']\n",
    "del alph[1:]\n",
    "alph"
   ]
  },
  {
   "cell_type": "code",
   "execution_count": 31,
   "metadata": {},
   "outputs": [
    {
     "name": "stdout",
     "output_type": "stream",
     "text": [
      "['hello world', 'hi']\n"
     ]
    },
    {
     "data": {
      "text/plain": [
       "[]"
      ]
     },
     "execution_count": 31,
     "metadata": {},
     "output_type": "execute_result"
    }
   ],
   "source": [
    "my_list = ['hello', 'world', 'hello world', 'hi', 'whoa', 'banana']\n",
    "#remove (however you like) the first two entries,\n",
    "#then the third, then the last and print the result\n",
    "#then using the remove command, remove the remaining entry\n",
    "del my_list[0:2]\n",
    "my_list.pop(2)\n",
    "my_list.pop()\n",
    "print(my_list)\n",
    "my_list.remove('hello world')\n",
    "my_list.remove('hi')\n",
    "my_list"
   ]
  },
  {
   "cell_type": "markdown",
   "metadata": {},
   "source": [
    "# Lists and Strings  \n",
    "Although a list of characters and a string have a lot in common, they are not the same.  \n",
    "You can, of course, convert one to the other with casting.  \n"
   ]
  },
  {
   "cell_type": "code",
   "execution_count": 2,
   "metadata": {},
   "outputs": [
    {
     "data": {
      "text/plain": [
       "['h', 'e', 'l', 'l', 'o', ' ', 'w', 'o', 'r', 'l', 'd']"
      ]
     },
     "execution_count": 2,
     "metadata": {},
     "output_type": "execute_result"
    }
   ],
   "source": [
    "\n",
    "s = 'hello world'\n",
    "t = list(s)\n",
    "t\n",
    "#Similar to str or int, you should avoid using \"list\"\n",
    "#as a variable name\n",
    "#don't run this: list = ['stuff']"
   ]
  },
  {
   "cell_type": "code",
   "execution_count": 3,
   "metadata": {},
   "outputs": [
    {
     "data": {
      "text/plain": [
       "['Hello studious students', ' good day.']"
      ]
     },
     "execution_count": 3,
     "metadata": {},
     "output_type": "execute_result"
    }
   ],
   "source": [
    "#If you want to break a string into words, you can\n",
    "#Use the split method\n",
    "sentence = 'Hello studious students, good day.'\n",
    "sentence.split(',')"
   ]
  },
  {
   "cell_type": "code",
   "execution_count": 35,
   "metadata": {},
   "outputs": [
    {
     "data": {
      "text/plain": [
       "['bow', 'wow', 'woof', 'woof!']"
      ]
     },
     "execution_count": 35,
     "metadata": {},
     "output_type": "execute_result"
    }
   ],
   "source": [
    "#We can also use an optional argument for split()\n",
    "#called a delimiter\n",
    "sentence2 = 'bow-wow-woof-woof!'\n",
    "sentence2.split('-')"
   ]
  },
  {
   "cell_type": "code",
   "execution_count": 43,
   "metadata": {},
   "outputs": [
    {
     "data": {
      "text/plain": [
       "'I like traffic lights'"
      ]
     },
     "execution_count": 43,
     "metadata": {},
     "output_type": "execute_result"
    }
   ],
   "source": [
    "#Join is the inverse of split.  It takes a \n",
    "#List of strings and concatenates the elements.\n",
    "\n",
    "#Join is a string method, so we invoke it on the \n",
    "#Delimiter, and pass it a list as a parameter.\n",
    "words = ['I', 'like', 'traffic', 'lights']\n",
    "' '.join(words)"
   ]
  },
  {
   "cell_type": "code",
   "execution_count": 44,
   "metadata": {},
   "outputs": [
    {
     "data": {
      "text/plain": [
       "'arf-arf-bow-wow'"
      ]
     },
     "execution_count": 44,
     "metadata": {},
     "output_type": "execute_result"
    }
   ],
   "source": [
    "dog_words = ['arf','arf','bow','wow']\n",
    "'-'.join(dog_words)"
   ]
  },
  {
   "cell_type": "code",
   "execution_count": 45,
   "metadata": {},
   "outputs": [
    {
     "data": {
      "text/plain": [
       "'arfarfbowwow'"
      ]
     },
     "execution_count": 45,
     "metadata": {},
     "output_type": "execute_result"
    }
   ],
   "source": [
    "#One handy way to concatenate everything in a list\n",
    "#together with no delimiter is:\n",
    "''.join(dog_words)\n",
    "#by using the empty string as the delimiter"
   ]
  },
  {
   "cell_type": "code",
   "execution_count": 46,
   "metadata": {},
   "outputs": [
    {
     "data": {
      "text/plain": [
       "'These!words!are!some!terrific!words'"
      ]
     },
     "execution_count": 46,
     "metadata": {},
     "output_type": "execute_result"
    }
   ],
   "source": [
    "# write a function that takes in a list of words and a delimiter,\n",
    "#and returns a string that has those words separated by that delimiter\n",
    "#and test it out\n",
    "def string_joiner(words, delimiter):\n",
    "        out_string = delimiter.join(words)\n",
    "        return out_string\n",
    "#testing:\n",
    "my_words = ['These', 'words', 'are', 'some', 'terrific', 'words']\n",
    "my_delimiter = '!'\n",
    "string_joiner(my_words, my_delimiter)"
   ]
  },
  {
   "cell_type": "markdown",
   "metadata": {},
   "source": [
    "\n",
    "# Objects and Values"
   ]
  },
  {
   "cell_type": "code",
   "execution_count": 50,
   "metadata": {},
   "outputs": [
    {
     "data": {
      "text/plain": [
       "True"
      ]
     },
     "execution_count": 50,
     "metadata": {},
     "output_type": "execute_result"
    }
   ],
   "source": [
    "#if we run:\n",
    "a = 'coconut'\n",
    "b = 'coconut'\n",
    "#We know that a and b refer to a string, but\n",
    "#is it the same string or two separate strings\n",
    "#that happen to have the same value?\n",
    "#In this case, Python only created one string object,\n",
    "#and both a and b refer to it.\n",
    "#one way to check this is with \"is\"\n",
    "a is b\n",
    "#is is stronger condition than =="
   ]
  },
  {
   "cell_type": "code",
   "execution_count": 48,
   "metadata": {},
   "outputs": [
    {
     "name": "stdout",
     "output_type": "stream",
     "text": [
      "False\n",
      "True\n"
     ]
    }
   ],
   "source": [
    "#But, when you create two lists:\n",
    "a = [1,2,3]\n",
    "b = [1,2,3]\n",
    "print(a is b) #False\n",
    "print(a == b) #True\n",
    "#, you get False.  Because Python creates TWO\n",
    "#list objects\n",
    "#We say that a and b are equivalent but not identical\n",
    "\n",
    "#I remember this by thinking of strings, ints, booleans\n",
    "#as \"fundamental\" data types, while lists, tuples,\n",
    "#dictionaries, etc, are more abstract\n",
    "\n",
    "#It gets even more complicated with \"copying\" \n",
    "#objects...\n"
   ]
  },
  {
   "cell_type": "markdown",
   "metadata": {},
   "source": [
    "# Aliasing"
   ]
  },
  {
   "cell_type": "code",
   "execution_count": 49,
   "metadata": {},
   "outputs": [
    {
     "name": "stdout",
     "output_type": "stream",
     "text": [
      "True\n"
     ]
    },
    {
     "data": {
      "text/plain": [
       "[1, 9, 3]"
      ]
     },
     "execution_count": 49,
     "metadata": {},
     "output_type": "execute_result"
    }
   ],
   "source": [
    "#if a refers to an object, and you assign b = a,\n",
    "#Then both variables refer to the same object\n",
    "a = [1,2,3]\n",
    "b = a\n",
    "print(b is a)\n",
    "#then both a and b \"point\" to the same list in memory\n",
    "\n",
    "#associating a variable with an object is called\n",
    "#a 'reference'.  In this case, there are two \n",
    "#references to the same object.\n",
    "#So, that object is \"aliased\"\n",
    "\n",
    "#If that object can be altered, changes using one alias\n",
    "#affect the other.\n",
    "b[1] = 9\n",
    "a\n",
    "\n",
    "#WARNING! If a and b referred to a list with \n",
    "#further lists inside, then we get into issues of\n",
    "#Copy depth..."
   ]
  },
  {
   "cell_type": "markdown",
   "metadata": {},
   "source": [
    "List arguments"
   ]
  },
  {
   "cell_type": "code",
   "execution_count": 52,
   "metadata": {},
   "outputs": [
    {
     "name": "stdout",
     "output_type": "stream",
     "text": [
      "9 3\n",
      "[2, 3] [1, 2, 3]\n",
      "[1, 2, 3, 3]\n"
     ]
    }
   ],
   "source": [
    "#Pick up here after 1/28/21!\n",
    "#When you pass a list to a function,\n",
    "#the function gets a reference to the list.\n",
    "#If the function modifies the list, the caller\n",
    "#sees the change.\n",
    "#You can create destructive and non-destructive\n",
    "#treatments of lists and objects this way\n",
    "\n",
    "#examples:\n",
    "#non-list (fundamental data type version)\n",
    "def squarer(x):\n",
    "    x = x**2\n",
    "    return x\n",
    "y = 3\n",
    "print(squarer(y), y)#non-destructive by nature because no \n",
    "#reference passed\n",
    "\n",
    "#contrast with list (or object, non-fundamental)\n",
    "def tail(t):\n",
    "    return t[1:]#returns everything after first element\n",
    "    #is non-destructive on t\n",
    "\n",
    "def longerer(t):\n",
    "    t.append(t[-1])#by calling append (a destructive method)\n",
    "    #on t, it changes the list passed in\n",
    "\n",
    "s = [1,2,3]\n",
    "print(tail(s), s)#despite running tail function on s, s is not altered\n",
    "longerer(s)\n",
    "print(s)"
   ]
  },
  {
   "cell_type": "markdown",
   "metadata": {},
   "source": [
    "# Exercises!"
   ]
  },
  {
   "cell_type": "raw",
   "metadata": {},
   "source": [
    "Exercise 1  \n",
    "Write a function called nested_sum that takes a list of lists of integers and adds up the elements from all of the nested lists. For example:\n",
    ">>> t = [[1, 2], [3], [4, 5, 6]]\n",
    ">>> nested_sum(t)\n",
    "21"
   ]
  },
  {
   "cell_type": "code",
   "execution_count": null,
   "metadata": {},
   "outputs": [],
   "source": []
  },
  {
   "cell_type": "code",
   "execution_count": null,
   "metadata": {},
   "outputs": [],
   "source": []
  },
  {
   "cell_type": "raw",
   "metadata": {},
   "source": [
    "Exercise 2  \n",
    "Write a function called cumsum that takes a list of numbers and returns the cumulative sum; that is, a new list where the ith element is the sum of the first i+1 elements from the original list. For example:\n",
    ">>> t = [1, 2, 3]\n",
    ">>> cumsum(t)\n",
    "[1, 3, 6]"
   ]
  },
  {
   "cell_type": "code",
   "execution_count": 15,
   "metadata": {},
   "outputs": [
    {
     "name": "stdout",
     "output_type": "stream",
     "text": [
      "4\n"
     ]
    }
   ],
   "source": [
    "from random import *\n",
    "\n",
    "\n",
    "def cumsum(t):\n",
    "    x=0\n",
    "    n=[]\n",
    "    for element in t:\n",
    "        x+= element\n",
    "        n.append(x)\n",
    "    return n\n",
    "t = [1,2,3]\n",
    "n=cumsum(t)\n",
    "print(4)\n"
   ]
  },
  {
   "cell_type": "code",
   "execution_count": 17,
   "metadata": {},
   "outputs": [
    {
     "ename": "SyntaxError",
     "evalue": "invalid syntax (Temp/ipykernel_15888/3741776647.py, line 4)",
     "output_type": "error",
     "traceback": [
      "\u001b[1;36m  File \u001b[1;32m\"C:\\Users\\MICHAE~1\\AppData\\Local\\Temp/ipykernel_15888/3741776647.py\"\u001b[1;36m, line \u001b[1;32m4\u001b[0m\n\u001b[1;33m    newlist.append(sum(t(0:i+1)))\u001b[0m\n\u001b[1;37m                          ^\u001b[0m\n\u001b[1;31mSyntaxError\u001b[0m\u001b[1;31m:\u001b[0m invalid syntax\n"
     ]
    }
   ],
   "source": [
    "def cumsum2(t):\n",
    "    newlist=[]\n",
    "    for i in range(len(t)):\n",
    "        newlist.append(sum(t(0:i+1)))\n",
    "        \n",
    "    return newlist\n",
    "t = [1,2,3]\n",
    "n=cumsum(t)\n",
    "print(4)\n"
   ]
  },
  {
   "cell_type": "raw",
   "metadata": {},
   "source": [
    "Exercise 3  \n",
    "Write a function called middle that takes a list and returns a new list that contains all but the first and last elements. For example:\n",
    ">>> t = [1, 2, 3, 4]\n",
    ">>> middle(t)\n",
    "[2, 3]"
   ]
  },
  {
   "cell_type": "code",
   "execution_count": 31,
   "metadata": {},
   "outputs": [],
   "source": [
    "from time import *\n",
    "\n",
    "t=sample(range(1,99),5)\n",
    "\n",
    "def middle1(t):\n",
    "    mid=t[1:-1]\n",
    "    return mid\n",
    "\n",
    "def middle2(t):\n",
    "    t.pop()\n",
    "    t.pop(0)\n",
    "    return t\n",
    "\n",
    "# start=time()\n",
    "# middle1(t)\n",
    "# stp=time()\n",
    "# print(start-st)\n",
    "\n",
    "# start=time()\n",
    "# middle2(t)\n",
    "# stp=time()\n",
    "# print(start-st)\n"
   ]
  },
  {
   "cell_type": "raw",
   "metadata": {},
   "source": [
    "Exercise 4  \n",
    "Write a function called chop that takes a list, modifies it by removing the first and last elements, and returns None. For example:\n",
    ">>> t = [1, 2, 3, 4]\n",
    ">>> chop(t)\n",
    ">>> t\n",
    "[2, 3]"
   ]
  },
  {
   "cell_type": "code",
   "execution_count": 38,
   "metadata": {},
   "outputs": [
    {
     "data": {
      "text/plain": [
       "[2, 3]"
      ]
     },
     "execution_count": 38,
     "metadata": {},
     "output_type": "execute_result"
    }
   ],
   "source": [
    "a=[1,2,3,4]\n",
    "\n",
    "def chop(t):\n",
    "    del x[len(x):]\n",
    "    t.pop(0)\n",
    "    t.pop()\n",
    "chop(a)\n",
    "a"
   ]
  },
  {
   "cell_type": "raw",
   "metadata": {},
   "source": [
    "Exercise 5   Write a function called is_sorted that takes a list as a parameter and returns True if the list is sorted in ascending order and False otherwise. For example:\n",
    ">>> is_sorted([1, 2, 2])\n",
    "True\n",
    ">>> is_sorted(['b', 'a'])\n",
    "False"
   ]
  },
  {
   "cell_type": "code",
   "execution_count": 35,
   "metadata": {},
   "outputs": [
    {
     "data": {
      "text/plain": [
       "False"
      ]
     },
     "execution_count": 35,
     "metadata": {},
     "output_type": "execute_result"
    }
   ],
   "source": [
    "t = [1,2,4,3,5,6,7]\n",
    "\n",
    "def is_sorted(thing):\n",
    "    for i in range(len(thing)-1):\n",
    "        if thing[i] > thing[i+1]:\n",
    "            return False\n",
    "    return True\n",
    "\n",
    "is_sorted(t)\n",
    "    "
   ]
  },
  {
   "cell_type": "raw",
   "metadata": {},
   "source": [
    "Exercise 6  \n",
    "Two words are anagrams if you can rearrange the letters from one to spell the other. Write a function called is_anagram that takes two strings and returns True if they are anagrams."
   ]
  },
  {
   "cell_type": "code",
   "execution_count": 26,
   "metadata": {},
   "outputs": [
    {
     "name": "stdout",
     "output_type": "stream",
     "text": [
      "True\n"
     ]
    }
   ],
   "source": [
    "x='arnold'\n",
    "y='ronald'\n",
    "\n",
    "def anagram(x,y):\n",
    "    if len(x)!=len(y):\n",
    "        return False\n",
    "    xl=list(x)\n",
    "    yl=list(y)\n",
    "    for i in range(len(xl)):\n",
    "        for j in range(len(yl)):\n",
    "            a=xl[0]\n",
    "            b= yl[j]\n",
    "            if a==b:\n",
    "                xl.pop(0)\n",
    "                yl.pop(j)\n",
    "                if xl==yl:\n",
    "                    return True\n",
    "              \n",
    "                break\n",
    "                \n",
    "print(anagram(x,y))"
   ]
  },
  {
   "cell_type": "raw",
   "metadata": {},
   "source": [
    "Exercise 7  \n",
    "Write a function called has_duplicates that takes a list and returns True if there is any element that appears more than once. It should not modify the original list."
   ]
  },
  {
   "cell_type": "code",
   "execution_count": 4,
   "metadata": {},
   "outputs": [
    {
     "name": "stdout",
     "output_type": "stream",
     "text": [
      "True\n"
     ]
    }
   ],
   "source": [
    "def has_duplicates(a):\n",
    "    for j in range(len(a)):\n",
    "        for i in range(len(a)-1-j):\n",
    "            if a[j]==a[i+1]:\n",
    "                return True\n",
    "            \n",
    "    return False\n",
    "\n",
    "a=[1,2,4,5,6,13,2]\n",
    "\n",
    "print(has_duplicates(a))"
   ]
  },
  {
   "cell_type": "raw",
   "metadata": {},
   "source": [
    "Exercise 8  \n",
    "This exercise pertains to the so-called Birthday Paradox, which you can read about at http://en.wikipedia.org/wiki/Birthday_paradox.\n",
    "If there are 23 students in your class, what are the chances that two of you have the same birthday? You can estimate this probability by generating random samples of 23 birthdays and checking for matches. Hint: you can generate random birthdays with the randint function in the random module."
   ]
  },
  {
   "cell_type": "code",
   "execution_count": 100,
   "metadata": {},
   "outputs": [],
   "source": [
    "from random import randint\n",
    "birthdays = []\n",
    "student_count = 23\n",
    "for _ in range(student_count):\n",
    "    birthdays.append(randint(1,365))\n",
    "#and then...you might try to use has_duplicates from prior problem.\n"
   ]
  },
  {
   "cell_type": "code",
   "execution_count": 5,
   "metadata": {},
   "outputs": [
    {
     "name": "stdout",
     "output_type": "stream",
     "text": [
      "71\n"
     ]
    }
   ],
   "source": [
    "np = 1 \n",
    "f1 = 364/365\n",
    "odds = 0\n",
    "while odds < .999:\n",
    "    np +=1\n",
    "    connections = (np+1)*np/2\n",
    "    odds = 1-f1**connections\n",
    "print(np)"
   ]
  },
  {
   "cell_type": "code",
   "execution_count": null,
   "metadata": {},
   "outputs": [],
   "source": []
  }
 ],
 "metadata": {
  "kernelspec": {
   "display_name": "Python 3 (ipykernel)",
   "language": "python",
   "name": "python3"
  },
  "language_info": {
   "codemirror_mode": {
    "name": "ipython",
    "version": 3
   },
   "file_extension": ".py",
   "mimetype": "text/x-python",
   "name": "python",
   "nbconvert_exporter": "python",
   "pygments_lexer": "ipython3",
   "version": "3.9.7"
  }
 },
 "nbformat": 4,
 "nbformat_minor": 4
}
